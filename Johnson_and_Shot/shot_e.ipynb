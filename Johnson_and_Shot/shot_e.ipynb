{
 "cells": [
  {
   "cell_type": "code",
   "execution_count": 1,
   "metadata": {},
   "outputs": [],
   "source": [
    "import numpy as np\n",
    "import matplotlib.pyplot as plt\n",
    "%matplotlib inline"
   ]
  },
  {
   "cell_type": "markdown",
   "metadata": {},
   "source": [
    "## Shot Noise: Measuring e, electric charge"
   ]
  },
  {
   "cell_type": "markdown",
   "metadata": {},
   "source": [
    "$V_{n}$ = noise\n",
    "<br>\n",
    "$V_{s}$ = shot noise\n",
    "<br>\n",
    "$V_{av}$ = average voltage \n",
    "<br>\n",
    "$e$ = electric charge\n",
    "<br>\n",
    "$R$ = resistance\n",
    "<br> \n",
    "$$ \\frac{\\langle V_{s}^{2} \\rangle - \\langle V_{n}^{2} \\rangle}{2R\\int{g^{2}(f)df}} = eV_{av}$$ \n",
    "\n",
    "We calculate $V_{av}$ (using multimeter), $V_{s}$ (using picoscope), $V_{rms}$, $V_{n}$ (not sure),  $R$ (using multimeter).\n",
    "\n",
    "The slope of the line will be fundamental constant $e$"
   ]
  },
  {
   "cell_type": "markdown",
   "metadata": {},
   "source": [
    "| $V_{av}$ (V)     |  R ($k\\Omega$) |     $V_{rms}$ (mV)   |  $V_{n}$ (mV)   | Flashlight (V)|\n",
    "|------------------|----------------|--------------------|-----------------|---------------|\n",
    "| 0.273 $\\pm$ 0.001|                |   154.1 $\\pm$ 0.9  |                 |      0.9      |\n",
    "| 0.911 $\\pm$ 0.001|                |   247.9 $\\pm$ 1.7  |                 |      1.2      |\n",
    "| 1.994 $\\pm$ 0.001| 99.4 $\\pm$ 0.1 |   348.0 $\\pm$ 2.4  | 78.87 $\\pm$ 0.52|      1.5      |\n",
    "| 3.40  $\\pm$ 0.01 |                |   438.4 $\\pm$ 3.7  |                 |      1.8      | \n",
    "| 5.30  $\\pm$ 0.01 |                |   534.3 $\\pm$ 5.5  |                 |      2.1      |\n",
    "| 7.47  $\\pm$ 0.01 |                |   602.2 $\\pm$ 5.7  |                 |      2.4      |"
   ]
  },
  {
   "cell_type": "markdown",
   "metadata": {},
   "source": [
    "| Voltage (mV) | G2B (no units) | \n",
    "|--------------|----------------|\n",
    "| 154          | $2.136 \\times 10^{12} $  |  \n",
    "| 248          | $1.978 \\times 10^{12} $   |  \n",
    "| 348          | $1.910 \\times 10^{12} $   |  \n",
    "| 438          | $1.906 \\times 10^{12} $   |             \n",
    "| 534          | $1.826 \\times 10^{12} $   |      \n",
    "| 602          | $1.757 \\times 10^{12} $   |     "
   ]
  },
  {
   "cell_type": "markdown",
   "metadata": {},
   "source": [
    "| $$V_{av} \\text{(V)}$$|$$R \\text{(k}\\Omega\\text{)}$$| $$V_{rms}\\text{(V)}$$ | $$V_{n} (mV)$$| $$light (V)$$|    $$g^2$$   |\n",
    "|----------------------|--------------------|------------------------|----------------------|---------------|-----------------------|\n",
    "| $0.273$$\\pm$$0.001$|                  |$0.1541$$\\pm$$0.0009$|                       |      $0.9$      |$2.136$$\\times$$10^{12}$ | \n",
    "| $0.911$$\\pm$$0.001$|                  |$0.2479$$\\pm$$0.0017$|                       |      $1.2$      |$1.978$$\\times$$10^{12}$ |\n",
    "| $1.994$$\\pm$$0.001$| $99.4$$\\pm$$0.1$ |$0.3480$$\\pm$$0.0024$|$0.07887$$\\pm$$0.00052$|      $1.5$      |$1.910$$\\times$$10^{12}$ | \n",
    "| $3.40$$\\pm$$0.01$  |                  |$0.4384$$\\pm$$0.0037$|                       |      $1.8$      |$1.906$$\\times$$10^{12}$ |   \n",
    "| $5.30$$\\pm$$0.01$  |                  |$0.5343$$\\pm$$0.0055$|                       |      $2.1$      |$1.826$$\\times$$10^{12}$ | \n",
    "| $7.47$$\\pm$$0.01$  |                  |$0.6022$$\\pm$$0.0057$|                       |      $2.4$      |$1.757$$\\times$$10^{12}$ | "
   ]
  },
  {
   "cell_type": "markdown",
   "metadata": {},
   "source": [
    "<br> \n",
    "1) PicoScope 2000 Series \n",
    "<br>\n",
    "2) Flashlight connected to DC Power supply \n",
    "<br>\n",
    "3) Filter (1k - 30k) \n",
    "<br> \n",
    "4) Amplifier \n",
    "<br>\n",
    "5) Multimeter (measure resistance and V_{)\n",
    "<br>\n",
    "6) Photodiode "
   ]
  },
  {
   "cell_type": "markdown",
   "metadata": {},
   "source": [
    "$V_{avg}$ should be linear proportional to $V_{s}^2$"
   ]
  },
  {
   "cell_type": "code",
   "execution_count": 2,
   "metadata": {},
   "outputs": [],
   "source": [
    "# Data \n",
    "V_avg = [0.273, 0.911, 1.994, 3.40, 5.30, 7.47]    #in volts\n",
    "V_s = np.square([.1541, .2479, .3480, .4384, .5343, .6022])   #in volts \n",
    "G2B = [2.136e12, 1.978e12, 1.910e12, 1.906e12, 1.826e12, 1.757e12]\n",
    "R = 99.4 * 1000 # in ohms \n",
    "V_n2 = .07887**2 # in volts"
   ]
  },
  {
   "cell_type": "code",
   "execution_count": 3,
   "metadata": {},
   "outputs": [],
   "source": [
    "# stuff for plotting \n",
    "\n",
    "y_axis = []\n",
    "x_axis = []\n",
    "\n",
    "for i in range(len(V_s)):\n",
    "    y_point = (V_s[i]**2 - V_n2) / (2*R*G2B[i])\n",
    "    y_axis.append(y_point)\n",
    "\n",
    "for i in range(len(V_avg)):\n",
    "    x_point = V_avg[i]\n",
    "    x_axis.append(x_point)"
   ]
  },
  {
   "cell_type": "code",
   "execution_count": 4,
   "metadata": {},
   "outputs": [
    {
     "name": "stdout",
     "output_type": "stream",
     "text": [
      "[0.273, 0.911, 1.994, 3.4, 5.3, 7.47]\n"
     ]
    },
    {
     "data": {
      "text/plain": [
       "<matplotlib.text.Text at 0x10f00d278>"
      ]
     },
     "execution_count": 4,
     "metadata": {},
     "output_type": "execute_result"
    },
    {
     "data": {
      "image/png": "[encoded data removed]",
      "text/plain": [
       "<matplotlib.figure.Figure at 0x10b0c0908>"
      ]
     },
     "metadata": {},
     "output_type": "display_data"
    }
   ],
   "source": [
    "# plotting \n",
    "\n",
    "print(V_avg)\n",
    "plt.plot(x_axis, y_axis, '-o')\n",
    "plt.ylabel(\"V_{s}^2 - V_n^2 / (2*R*G2B)\")\n",
    "plt.xlabel(\"V_avg\")\n",
    "plt.title(\"Determining e, electric charge\")"
   ]
  },
  {
   "cell_type": "code",
   "execution_count": 5,
   "metadata": {},
   "outputs": [
    {
     "name": "stdout",
     "output_type": "stream",
     "text": [
      "accepted value: -1.602176565e-19\n",
      "e charge estimate: 5.2547921574052956e-20\n"
     ]
    }
   ],
   "source": [
    "# coeffients for line of best fit \n",
    "\n",
    "coeffs = np.polyfit(x_axis, y_axis, 1, full = True)\n",
    "e = -1.602176565e-19\n",
    "print(\"accepted value:\", e)\n",
    "print(\"e charge estimate:\", coeffs[0][0])"
   ]
  },
  {
   "cell_type": "markdown",
   "metadata": {},
   "source": [
    "## Adding in error bars "
   ]
  },
  {
   "cell_type": "markdown",
   "metadata": {},
   "source": [
    "| $$V_{av} \\text{(V)}$$|$$R \\text{(k}\\Omega\\text{)}$$| $$V_{rms}\\text{(V)}$$ | $$V_{n} (mV)$$| $$light (V)$$|    $$g^2$$   |\n",
    "|----------------------|--------------------|------------------------|----------------------|---------------|-----------------------|\n",
    "| $0.273$$\\pm$$0.001$|                  |$0.1541$$\\pm$$0.0009$|                       |      $0.9$      |$2.136$$\\times$$10^{12}$ | \n",
    "| $0.911$$\\pm$$0.001$|                  |$0.2479$$\\pm$$0.0017$|                       |      $1.2$      |$1.978$$\\times$$10^{12}$ |\n",
    "| $1.994$$\\pm$$0.001$| $99.4$$\\pm$$0.1$ |$0.3480$$\\pm$$0.0024$|$0.07887$$\\pm$$0.00052$|      $1.5$      |$1.910$$\\times$$10^{12}$ | \n",
    "| $3.40$$\\pm$$0.01$  |                  |$0.4384$$\\pm$$0.0037$|                       |      $1.8$      |$1.906$$\\times$$10^{12}$ |   \n",
    "| $5.30$$\\pm$$0.01$  |                  |$0.5343$$\\pm$$0.0055$|                       |      $2.1$      |$1.826$$\\times$$10^{12}$ | \n",
    "| $7.47$$\\pm$$0.01$  |                  |$0.6022$$\\pm$$0.0057$|                       |      $2.4$      |$1.757$$\\times$$10^{12}$ | "
   ]
  },
  {
   "cell_type": "code",
   "execution_count": 6,
   "metadata": {},
   "outputs": [],
   "source": [
    "# Data \n",
    "V_avg = [0.273, 0.911, 1.994, 3.40, 5.30, 7.47]    #in volts\n",
    "V_s = [.1541, .2479, .3480, .4384, .5343, .6022]   #in volts \n",
    "G2B = [2.136e12, 1.978e12, 1.910e12, 1.906e12, 1.826e12, 1.757e12]\n",
    "R = 99.4 * 1000 # from kiloohms to ohms \n",
    "V_n = .07887 # in volts\n",
    "dV_avg = [0.001, 0.001, 0.001, 0.01, 0.01, 0.01]\n",
    "dV_s = [0.0009, 0.0017, 0.0024, 0.0037, 0.0055, 0.0057]\n",
    "dR = 0.1\n",
    "dV_n = 0.00052"
   ]
  },
  {
   "cell_type": "code",
   "execution_count": 7,
   "metadata": {},
   "outputs": [],
   "source": [
    "# Calculating error in f \n",
    "\n",
    "# Adding error with multiple variables with respect to eV_avg\n",
    "\n",
    "def error_f(Vs, Vn, R, dVs, dVn, dR, g2):\n",
    "    '''\n",
    "    returns the error of the boltzmann constant k \n",
    "    '''\n",
    "    dfdR = -(Vs**2 - Vn**2) / (2*(R**2)*g2)\n",
    "    dfdVs = (2*Vs) / (2*R*g2)\n",
    "    dfdVn = -(2*Vn) / (2*R*g2)\n",
    "    \n",
    "    term1 = dfdR**2 * dR**2\n",
    "    term2 = dfdVs**2 * dVs**2\n",
    "    term3 = dfdVn**2 * dVn**2\n",
    "    \n",
    "    sum_of_terms = term1 + term2 + term3\n",
    "    square_of_sums = np.sqrt(sum_of_terms)\n",
    "    error_f = square_of_sums\n",
    "    return error_f "
   ]
  },
  {
   "cell_type": "code",
   "execution_count": 8,
   "metadata": {},
   "outputs": [
    {
     "name": "stdout",
     "output_type": "stream",
     "text": [
      "[6.811791891350055e-22, 2.1535731314315237e-21, 4.4044705421361195e-21, 8.56449502471189e-21, 1.6192093294382745e-20, 1.9655697454377216e-20]\n"
     ]
    }
   ],
   "source": [
    "errors_in_f = []\n",
    "\n",
    "for i in range(len(V_s)):\n",
    "    f_error = error_f(V_s[i], V_n, R, dV_s[i], dV_n, dR, G2B[i])\n",
    "    errors_in_f.append(f_error)\n",
    "    \n",
    "print(errors_in_f)"
   ]
  },
  {
   "cell_type": "code",
   "execution_count": 9,
   "metadata": {},
   "outputs": [],
   "source": [
    "import matplotlib\n",
    "%precision %g\n",
    "%config InlineBackend.figure_format = 'retina'\n",
    "matplotlib.rcParams['savefig.dpi'] = 120\n",
    "matplotlib.rcParams['figure.dpi'] = 120\n",
    "%matplotlib inline"
   ]
  },
  {
   "cell_type": "code",
   "execution_count": 10,
   "metadata": {},
   "outputs": [
    {
     "name": "stdout",
     "output_type": "stream",
     "text": [
      "5.2547921574052956e-20\n",
      "-6.114221123730952e-20\n",
      "[ 5.25479216e-20 -6.11422112e-20]\n"
     ]
    },
    {
     "data": {
      "text/plain": [
       "(0, 8.5)"
      ]
     },
     "execution_count": 10,
     "metadata": {},
     "output_type": "execute_result"
    },
    {
     "data": {
      "image/png": "[encoded data removed]",
      "text/plain": [
       "<matplotlib.figure.Figure at 0x10b0c0358>"
      ]
     },
     "metadata": {
      "image/png": {
       "height": 282,
       "width": 395
      }
     },
     "output_type": "display_data"
    }
   ],
   "source": [
    "coeffs = np.polyfit(x_axis, y_axis, 1)\n",
    "m = coeffs[0]\n",
    "b = coeffs[1]\n",
    "print(m)\n",
    "print(b)\n",
    "print(coeffs)\n",
    "\n",
    "p = np.poly1d(coeffs)\n",
    "xp = np.linspace(x_axis[0], x_axis[-1]+1, 1000)\n",
    "plt.plot(x_axis, y_axis, '.', xp, p(xp), 'r')\n",
    "plt.ylabel(\"$V_{s}^2 - V_n^2 / (2*R*G2B)$\")\n",
    "plt.xlabel(\"$V_{avg}$\")\n",
    "plt.title(\"Determining e, electric charge\")\n",
    "plt.xlim(0, 8.5)"
   ]
  },
  {
   "cell_type": "code",
   "execution_count": 11,
   "metadata": {},
   "outputs": [
    {
     "data": {
      "text/plain": [
       "(0, 8.5)"
      ]
     },
     "execution_count": 11,
     "metadata": {},
     "output_type": "execute_result"
    },
    {
     "data": {
      "image/png": "[encoded data removed]",
      "text/plain": [
       "<matplotlib.figure.Figure at 0x1152bc358>"
      ]
     },
     "metadata": {
      "image/png": {
       "height": 282,
       "width": 395
      }
     },
     "output_type": "display_data"
    }
   ],
   "source": [
    "x_err = [0, 0, 0, 0, 0, 0]\n",
    "\n",
    "# plot data with error\n",
    "plt.errorbar(x_axis, y_axis, xerr=x_err, yerr=errors_in_f, fmt = '.', color = 'black')\n",
    "\n",
    "# plot line of best fit \n",
    "plt.plot(xp, p(xp), 'r-')\n",
    "\n",
    "# add labels and limits \n",
    "plt.ylabel(\"$V_{s}^2 - V_n^2 / (2*R*G2B)$\")\n",
    "plt.xlabel(\"$V_{avg}$\")\n",
    "plt.title(\"Elementary charge measurement\")\n",
    "plt.xlim(0, 8.5)"
   ]
  },
  {
   "cell_type": "code",
   "execution_count": 12,
   "metadata": {},
   "outputs": [],
   "source": [
    "# Determining the error on e "
   ]
  },
  {
   "cell_type": "code",
   "execution_count": 13,
   "metadata": {},
   "outputs": [],
   "source": [
    "# Adding error with multiple variables \n",
    "\n",
    "def error_e(V_s, V_n, R, V_avg, dV_s, dV_n, dR, dV_avg, g2):\n",
    "    '''\n",
    "    returns the error of the electric charge\n",
    "    '''\n",
    "    dfdV_avg = -(V_s**2 - V_n**2) / (2*(V_avg**2)*R*g2)\n",
    "    dfdR = -(V_s**2 - V_n**2) / (2*(R**2)*g2)\n",
    "    dfdV_s = (2*V_s) / (2*R*V_avg*g2)\n",
    "    dfdV_n = -(2*V_n) / (2*R*V_avg*g2)\n",
    "    \n",
    "    term1 = dfdV_avg**2 * dV_avg**2\n",
    "    term2 = dfdR**2 * dR**2\n",
    "    term3 = dfdV_s**2 * dV_s**2\n",
    "    term4 = dfdV_n**2 * dV_n**2\n",
    "    \n",
    "    sum_of_terms = term1 + term2 + term3 + term4\n",
    "    square_of_sums = np.sqrt(sum_of_terms)\n",
    "    error_f = square_of_sums\n",
    "    return error_f \n"
   ]
  },
  {
   "cell_type": "markdown",
   "metadata": {},
   "source": [
    "| $$V_{av} \\text{(V)}$$|$$R \\text{(k}\\Omega\\text{)}$$| $$V_{rms}\\text{(V)}$$ | $$V_{n} (mV)$$| $$light (V)$$|    $$g^2$$   |\n",
    "|----------------------|--------------------|------------------------|----------------------|---------------|-----------------------|\n",
    "| $0.273$$\\pm$$0.001$|                  |$0.1541$$\\pm$$0.0009$|                       |      $0.9$      |$2.136$$\\times$$10^{12}$ | \n",
    "| $0.911$$\\pm$$0.001$|                  |$0.2479$$\\pm$$0.0017$|                       |      $1.2$      |$1.978$$\\times$$10^{12}$ |\n",
    "| $1.994$$\\pm$$0.001$| $99.4$$\\pm$$0.1$ |$0.3480$$\\pm$$0.0024$|$0.07887$$\\pm$$0.00052$|      $1.5$      |$1.910$$\\times$$10^{12}$ | \n",
    "| $3.40$$\\pm$$0.01$  |                  |$0.4384$$\\pm$$0.0037$|                       |      $1.8$      |$1.906$$\\times$$10^{12}$ |   \n",
    "| $5.30$$\\pm$$0.01$  |                  |$0.5343$$\\pm$$0.0055$|                       |      $2.1$      |$1.826$$\\times$$10^{12}$ | \n",
    "| $7.47$$\\pm$$0.01$  |                  |$0.6022$$\\pm$$0.0057$|                       |      $2.4$      |$1.757$$\\times$$10^{12}$ | "
   ]
  },
  {
   "cell_type": "code",
   "execution_count": 14,
   "metadata": {},
   "outputs": [],
   "source": [
    "# Data \n",
    "V_avg = [0.273, 0.911, 1.994, 3.40, 5.30, 7.47]    #in volts\n",
    "V_s = [.1541, .2479, .3480, .4384, .5343, .6022]   #in volts \n",
    "G2B = [2.136e12, 1.978e12, 1.910e12, 1.906e12, 1.826e12, 1.757e12]\n",
    "R = 99.4 * 1000 # from kiloohms to ohms \n",
    "V_n = .07887 # in volts\n",
    "dV_avg = [0.001, 0.001, 0.001, 0.01, 0.01, 0.01]\n",
    "dV_s = [0.0009, 0.0017, 0.0024, 0.0037, 0.0055, 0.0057]\n",
    "dR = 0.1\n",
    "dV_n = 0.00052"
   ]
  },
  {
   "cell_type": "code",
   "execution_count": 15,
   "metadata": {},
   "outputs": [
    {
     "name": "stdout",
     "output_type": "stream",
     "text": [
      "[2.5558795656453546e-21, 2.370017104131948e-21, 2.2101722244924485e-21, 2.5545000197026616e-21, 3.0673621561847765e-21, 2.6376317952949678e-21]\n"
     ]
    }
   ],
   "source": [
    "errors_in_e = []\n",
    "\n",
    "for i in range(len(V_s)):\n",
    "    e_error = error_e(V_s[i], V_n, R, V_avg[i], dV_s[i], dV_n, dR, dV_avg[i], G2B[i])\n",
    "    errors_in_e.append(e_error)\n",
    "    \n",
    "print(errors_in_e)"
   ]
  },
  {
   "cell_type": "markdown",
   "metadata": {},
   "source": [
    "The list above is a list of the errors in $e$ for each measurement. In order to calculate the error on $e$ across all measurements, we use the following formula: \n",
    "\n",
    "$$ \\sigma_e = \\sqrt{\\frac{1}{N} \\sum_{i=1}^{N} \\delta e_{i}^2}$$ "
   ]
  },
  {
   "cell_type": "code",
   "execution_count": 16,
   "metadata": {},
   "outputs": [
    {
     "name": "stdout",
     "output_type": "stream",
     "text": [
      "[6.53252035e-42 5.61698107e-42 4.88486126e-42 6.52547035e-42\n",
      " 9.40871060e-42 6.95710149e-42]\n",
      "3.992564512528574e-41\n",
      "6.654274187547624e-42\n",
      "de =  2.5795879879445136e-21\n"
     ]
    }
   ],
   "source": [
    "test0 = np.square(errors_in_e)\n",
    "test1 = sum(test0)\n",
    "test2 = test1 / len(errors_in_e)\n",
    "test3 = np.sqrt(test2)\n",
    "print(test0)\n",
    "print(test1)\n",
    "print(test2)\n",
    "print(\"de = \", test3)"
   ]
  },
  {
   "cell_type": "markdown",
   "metadata": {},
   "source": [
    "## New measurements after taking new Gain integral"
   ]
  },
  {
   "cell_type": "markdown",
   "metadata": {},
   "source": [
    "| $$V_{av} \\text{(V)}$$|$$R \\text{(k}\\Omega\\text{)}$$| $$V_{rms}\\text{(V)}$$ | $$V_{n} (mV)$$| $$light (V)$$|  $$g^2$$   |\n",
    "|--------------|--------------|-----------------|---------|---------------|--------------------|\n",
    "| $0.273$$\\pm$$0.001$| |$0.1541$$\\pm$$0.0009$|  |$0.9$ |$3.03089$$\\times$$10^{12}$$\\pm$$0.38486$$\\times$$10^{12}$ | \n",
    "| $0.911$$\\pm$$0.001$ | | $0.2479$$\\pm$$0.0017$| | $1.2$ | $2.96376$$\\times$$10^{12}$$\\pm$$0.38486$$\\times$$10^{12}$ |\n",
    "| $1.994$$\\pm$$0.001$| $99.4$$\\pm$$0.1$ |$0.3480$$\\pm$$0.0024$|$0.07887$$\\pm$$0.00052$|$1.5$ |$2.86114$$\\times$$10^{12}$$\\pm$$0.38486$$\\times$$10^{12}$ |\n",
    "| $3.40$$\\pm$$0.01$| |$0.4384$$\\pm$$0.0037$| |$1.8$|$2.78599$$\\times$$10^{12}$$\\pm$$0.38486$$\\times$$10^{12}$ |\n",
    "| $5.30$ $\\pm$$0.01$  | |$0.5343$$\\pm$$0.0055$|   |   $2.1$   |$2.7013$$\\times$$10^{12}$$\\pm$$0.38486$$\\times$$10^{12}$ | \n",
    "| $7.47$$\\pm$$0.01$  |  |$0.6022$$\\pm$$0.0057$| |      $2.4$      |$2.54399$$\\times$$10^{12}$$\\pm$$0.38486$$\\times$$10^{12}$ | \n",
    "\n",
    "$$\\text{Table ??: RMS voltage and average voltage for measuring elementary charge}$$"
   ]
  },
  {
   "cell_type": "markdown",
   "metadata": {},
   "source": []
  },
  {
   "cell_type": "code",
   "execution_count": 17,
   "metadata": {},
   "outputs": [],
   "source": [
    "# Data \n",
    "V_avg = [0.273, 0.911, 1.994, 3.40, 5.30, 7.47]    #in volts\n",
    "V_s = [.1541, .2479, .3480, .4384, .5343, .6022]   #in volts \n",
    "#G2B = [2.136e12, 1.978e12, 1.910e12, 1.906e12, 1.826e12, 1.757e12]\n",
    "G2B = [3.03089e12, 2.96376e12, 2.86114e12, 2.78599e12, 2.7013e12, 2.54399e12]\n",
    "R = 99.4 * 1000 # from kiloohms to ohms \n",
    "V_n = .07887    # in volts\n",
    "\n",
    "# Error on data \n",
    "dV_avg = [0.001, 0.001, 0.001, 0.01, 0.01, 0.01]        # in volts\n",
    "dV_s = [0.0009, 0.0017, 0.0024, 0.0037, 0.0055, 0.0057] # in volts \n",
    "dG2B = 0.38486e12 \n",
    "dR = 0.1 * 1000 # from kilohms to ohms \n",
    "dV_n = 0.00052  # in volts "
   ]
  },
  {
   "cell_type": "code",
   "execution_count": 18,
   "metadata": {},
   "outputs": [],
   "source": [
    "# stuff for plotting \n",
    "\n",
    "y_axis = []\n",
    "x_axis = []\n",
    "\n",
    "for i in range(len(V_s)):\n",
    "    y_point = (V_s[i]**2 - V_n**2) / (2*R*G2B[i])\n",
    "    y_axis.append(y_point)\n",
    "\n",
    "for i in range(len(V_avg)):\n",
    "    x_point = V_avg[i]\n",
    "    x_axis.append(x_point)"
   ]
  },
  {
   "cell_type": "code",
   "execution_count": 19,
   "metadata": {},
   "outputs": [
    {
     "name": "stdout",
     "output_type": "stream",
     "text": [
      "[0.273, 0.911, 1.994, 3.4, 5.3, 7.47]\n"
     ]
    },
    {
     "data": {
      "text/plain": [
       "<matplotlib.text.Text at 0x11392e358>"
      ]
     },
     "execution_count": 19,
     "metadata": {},
     "output_type": "execute_result"
    },
    {
     "data": {
      "image/png": "[encoded data removed]",
      "text/plain": [
       "<matplotlib.figure.Figure at 0x113943978>"
      ]
     },
     "metadata": {
      "image/png": {
       "height": 280,
       "width": 377
      }
     },
     "output_type": "display_data"
    }
   ],
   "source": [
    "# plotting \n",
    "\n",
    "print(V_avg)\n",
    "plt.plot(x_axis, y_axis, '.')\n",
    "plt.ylabel(\"V_{s}^2 - V_n^2 / (2*R*G2B)\")\n",
    "plt.xlabel(\"V_avg\")\n",
    "plt.title(\"Determining e, electric charge\")"
   ]
  },
  {
   "cell_type": "code",
   "execution_count": 20,
   "metadata": {},
   "outputs": [],
   "source": [
    "# Calculating error in f \n",
    "\n",
    "# Adding error with multiple variables with respect to eV_avg\n",
    "\n",
    "def error_f(Vs, Vn, R, G2B, dVs, dVn, dR, dG2B):\n",
    "    '''\n",
    "    returns the error on eV_avg\n",
    "    '''\n",
    "    dfdR = -(Vs**2 - Vn**2) / (2*(R**2)*G2B)\n",
    "    dfdVs = (2*Vs) / (2*R*G2B)\n",
    "    dfdVn = -(2*Vn) / (2*R*G2B)\n",
    "    dfdG2B = -(Vs**2 - Vn**2) / (2*R*G2B**2)\n",
    "    \n",
    "    term1 = dfdR**2 * dR**2\n",
    "    term2 = dfdVs**2 * dVs**2\n",
    "    term3 = dfdVn**2 * dVn**2\n",
    "    term4 = dfdG2B**2 * dG2B **2\n",
    "    \n",
    "    sum_of_terms = term1 + term2 + term3 +term4 \n",
    "    square_of_sums = np.sqrt(sum_of_terms)\n",
    "    error_f = square_of_sums\n",
    "    return error_f "
   ]
  },
  {
   "cell_type": "code",
   "execution_count": 21,
   "metadata": {},
   "outputs": [
    {
     "name": "stdout",
     "output_type": "stream",
     "text": [
      "[3.7246731849413726e-21, 1.2258161923973762e-20, 2.732791225276348e-20, 4.675505300200073e-20, 7.489319777872864e-20, 1.0747925406197654e-19]\n"
     ]
    }
   ],
   "source": [
    "errors_in_f = []\n",
    "\n",
    "for i in range(len(V_s)):\n",
    "    f_error = error_f(V_s[i], V_n, R, G2B[i], dV_s[i], dV_n, dR, dG2B)\n",
    "    errors_in_f.append(f_error)\n",
    "    \n",
    "print(errors_in_f)"
   ]
  },
  {
   "cell_type": "code",
   "execution_count": 22,
   "metadata": {},
   "outputs": [
    {
     "name": "stdout",
     "output_type": "stream",
     "text": [
      "y-axis ---  [2.90873734367311e-20, 9.374466407998021e-20, 2.019771577239498e-19, 3.357812897362712e-19, 5.200119629039181e-19, 7.047508402313851e-19]\n",
      "\n",
      "x-axis ---  [0.273, 0.911, 1.994, 3.4, 5.3, 7.47]\n",
      "\n",
      "y-axis error ---  [3.7246731849413726e-21, 1.2258161923973762e-20, 2.732791225276348e-20, 4.675505300200073e-20, 7.489319777872864e-20, 1.0747925406197654e-19]\n"
     ]
    }
   ],
   "source": [
    "print(\"y-axis --- \", y_axis)\n",
    "print()\n",
    "print(\"x-axis --- \", x_axis)\n",
    "print()\n",
    "print(\"y-axis error --- \", errors_in_f)"
   ]
  },
  {
   "cell_type": "markdown",
   "metadata": {},
   "source": [
    "After running it through the ROOT code, we get: \n",
    "\n",
    "$$ e = 0.8747 \\times 10^{-19} \\pm 6.502 \\times 10^{-21}$$ "
   ]
  },
  {
   "cell_type": "code",
   "execution_count": 35,
   "metadata": {},
   "outputs": [
    {
     "name": "stdout",
     "output_type": "stream",
     "text": [
      "We are within 11.5 sigma of the mean: True\n"
     ]
    }
   ],
   "source": [
    "exp = 0.8747e-19\n",
    "accepted = 1.60217e-19\n",
    "error = 6.502e-21\n",
    "exp_diff = abs(exp - accepted)\n",
    "sigma = 11.5\n",
    "print(\"We are within\", sigma, \"sigma of the mean:\", exp_diff < (sigma)*error)"
   ]
  },
  {
   "cell_type": "code",
   "execution_count": null,
   "metadata": {},
   "outputs": [],
   "source": []
  },
  {
   "cell_type": "code",
   "execution_count": null,
   "metadata": {},
   "outputs": [],
   "source": []
  }
 ],
 "metadata": {
  "kernelspec": {
   "display_name": "Python 3",
   "language": "python",
   "name": "python3"
  },
  "language_info": {
   "codemirror_mode": {
    "name": "ipython",
    "version": 3
   },
   "file_extension": ".py",
   "mimetype": "text/x-python",
   "name": "python",
   "nbconvert_exporter": "python",
   "pygments_lexer": "ipython3",
   "version": "3.6.3"
  }
 },
 "nbformat": 4,
 "nbformat_minor": 2
}
