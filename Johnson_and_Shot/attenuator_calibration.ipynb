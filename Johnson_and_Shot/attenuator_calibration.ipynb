{
 "cells": [
  {
   "cell_type": "markdown",
   "metadata": {},
   "source": [
    "## 3.1 Attenuator Calibration Amplification and Gain Factor"
   ]
  },
  {
   "cell_type": "markdown",
   "metadata": {},
   "source": [
    "#### Measuring $A$, attenuating factor"
   ]
  },
  {
   "cell_type": "markdown",
   "metadata": {},
   "source": [
    "$$ A = \\prod \\frac{V_i}{V_0}$$\n",
    "\n",
    "where $i$ is the $i$ith button"
   ]
  },
  {
   "cell_type": "markdown",
   "metadata": {},
   "source": [
    "##### Equipment"
   ]
  },
  {
   "cell_type": "markdown",
   "metadata": {},
   "source": [
    "##### Measurements"
   ]
  },
  {
   "cell_type": "markdown",
   "metadata": {},
   "source": [
    "$V_0 = 193mV$\n",
    "\n",
    "$V_1 = 193mV$ \n",
    "\n",
    "$V_2 = 193mV$ \n",
    "\n",
    "$V_3 = 193mV$\n",
    "\n",
    "$V_9 = 193mV$\n",
    "\n",
    "\n",
    "We decide to attenuate using $i$ = 1,2,3, and 9\n",
    "\n",
    "$$ A = \\frac{V_{1}}{V_{0}} \\times \\frac{V_{2}}{V_{0}} \\times \\frac{V_{3}}{V_{0}} \\times \\frac{V_{9}}{V_{0}}$$\n",
    "$$ A = \\frac{19.2}{193} \\times \\frac{20.0}{193} \\times \\frac{17.7}{193} \\times \\frac{172}{193}$$"
   ]
  },
  {
   "cell_type": "code",
   "execution_count": 1,
   "metadata": {},
   "outputs": [
    {
     "name": "stdout",
     "output_type": "stream",
     "text": [
      "Attentution factor A = 0.000843\n"
     ]
    }
   ],
   "source": [
    "import numpy as np\n",
    "V = [19.2, 20.0, 17.7, 172]\n",
    "V0 = 193 \n",
    "\n",
    "A = np.prod(V) / (193)**4\n",
    "print(\"Attentution factor A = {:.3}\".format(A))"
   ]
  }
 ],
 "metadata": {
  "kernelspec": {
   "display_name": "Python 3",
   "language": "python",
   "name": "python3"
  },
  "language_info": {
   "codemirror_mode": {
    "name": "ipython",
    "version": 3
   },
   "file_extension": ".py",
   "mimetype": "text/x-python",
   "name": "python",
   "nbconvert_exporter": "python",
   "pygments_lexer": "ipython3",
   "version": "3.6.3"
  }
 },
 "nbformat": 4,
 "nbformat_minor": 2
}
