{
 "cells": [
  {
   "cell_type": "code",
   "execution_count": 1,
   "metadata": {},
   "outputs": [],
   "source": [
    "import numpy as np\n",
    "import matplotlib.pyplot as plt\n",
    "%matplotlib inline"
   ]
  },
  {
   "cell_type": "markdown",
   "metadata": {},
   "source": [
    "|$$f \\text{(kHz)} $$   |    $$ V_{avg} \\text{(V)}$$     |\n",
    "|------------|-----------------------|\n",
    "| $1.001$    |   $1.687$$\\pm$$0.009$ |\n",
    "| $1.996$    |   $1.716$$\\pm$$0.003$ |\n",
    "| $2.997$    |   $1.68$$\\pm$$0.003$  | \n",
    "| $3.998$    |   $1.672$$\\pm$$0.002$ |\n",
    "| $5.002$    |   $1.663$$\\pm$$0.001$ |\n",
    "| $7.006$    |   $1.662$$\\pm$$0.011$ |\n",
    "| $10$       |   $1.637$$\\pm$$0.001$ |\n",
    "| $13.03$    |   $1.619$$\\pm$$0.004$ |\n",
    "| $16$       |   $1.605$$\\pm$$0.001$ |\n",
    "\n",
    "\n",
    "$$\\text{Table 3: Data of gain factor measurements}$$"
   ]
  },
  {
   "cell_type": "code",
   "execution_count": 2,
   "metadata": {},
   "outputs": [],
   "source": [
    "voltage = [1.687, 1.716, 1.68, 1.672, 1.663, 1.662, 1.637, 1.619, 1.605] # RMS Voltage in Volts (V)\n",
    "x_data = [1.001, 1.996, 2.997, 3.998, 5.002, 7.006, 10.00, 13.03, 16.00] # frequency in ohms (\\Omega)\n",
    "y_data = []\n",
    "dv_out= [0.009, 0.003, 0.003, 0.002, 0.001, 0.011, 0.001, 0.004, 0.001]"
   ]
  },
  {
   "cell_type": "code",
   "execution_count": 3,
   "metadata": {},
   "outputs": [
    {
     "name": "stdout",
     "output_type": "stream",
     "text": [
      "length of y_data =  9\n",
      "length of x_data =  9\n",
      "length of dvavg =  9\n"
     ]
    }
   ],
   "source": [
    "print(\"length of y_data = \", len(voltage))\n",
    "print(\"length of x_data = \", len(x_data))\n",
    "print(\"length of dvavg = \", len(dv_out))"
   ]
  },
  {
   "cell_type": "code",
   "execution_count": 4,
   "metadata": {},
   "outputs": [],
   "source": [
    "for i in range(len(voltage)):\n",
    "    y_point = voltage[i] / (0.000843 * 0.193)\n",
    "    y_data.append(y_point)\n"
   ]
  },
  {
   "cell_type": "code",
   "execution_count": 5,
   "metadata": {},
   "outputs": [
    {
     "name": "stdout",
     "output_type": "stream",
     "text": [
      "[10368.840619794835, 10547.083878819169, 10325.816384857926, 10276.645830644318, 10221.328957154008, 10215.182637877306, 10061.524655959778, 9950.890908979158, 9864.842439105341]\n"
     ]
    }
   ],
   "source": [
    "print(y_data)"
   ]
  },
  {
   "cell_type": "code",
   "execution_count": 18,
   "metadata": {},
   "outputs": [
    {
     "data": {
      "text/plain": [
       "(0, 12000)"
      ]
     },
     "execution_count": 18,
     "metadata": {},
     "output_type": "execute_result"
    },
    {
     "data": {
      "image/png": "[encoded data removed]",
      "text/plain": [
       "<matplotlib.figure.Figure at 0x1141c4cf8>"
      ]
     },
     "metadata": {},
     "output_type": "display_data"
    }
   ],
   "source": [
    "plt.plot(x_data, y_data, \"-\", color = \"red\")\n",
    "plt.plot(x_data, y_data, \".\", color = \"black\")\n",
    "plt.xlabel(\"f (kHz)\")\n",
    "plt.ylabel(\"Gain\")\n",
    "plt.title(\"Gain Spectrum\")\n",
    "plt.ylim(0, 12000)"
   ]
  },
  {
   "cell_type": "code",
   "execution_count": 7,
   "metadata": {},
   "outputs": [
    {
     "name": "stdout",
     "output_type": "stream",
     "text": [
      "10245.89\n"
     ]
    }
   ],
   "source": [
    "x = (10276.6  + 10215.18) / 2\n",
    "print(x)"
   ]
  },
  {
   "cell_type": "markdown",
   "metadata": {},
   "source": [
    "We determine the gain factor by measuring the gain at around 3500 Hz. We get this frequency by taking the average gain factor of the two points 2997Hz and 3998Hz. \n",
    "\n",
    "\n",
    "$$ g_{3500} \\approx \\frac{g_{2997} + g_{3998}}{2} = 10301$$\n"
   ]
  },
  {
   "cell_type": "markdown",
   "metadata": {},
   "source": [
    "## Error "
   ]
  },
  {
   "cell_type": "code",
   "execution_count": 8,
   "metadata": {},
   "outputs": [],
   "source": [
    "def error_f(v_out, v_in, A, dv_out):\n",
    "    '''\n",
    "    '''\n",
    "    dgdv_out = 1 / (A*v_in)\n",
    "    term = dgdv_out**2 * dv_out**2\n",
    "    error = np.sqrt(term)\n",
    "    return error\n"
   ]
  },
  {
   "cell_type": "code",
   "execution_count": 9,
   "metadata": {},
   "outputs": [],
   "source": [
    "A = 0.000843\n",
    "v_in = 0.193\n",
    "v_out = y_data"
   ]
  },
  {
   "cell_type": "code",
   "execution_count": 10,
   "metadata": {},
   "outputs": [
    {
     "name": "stdout",
     "output_type": "stream",
     "text": [
      "9\n"
     ]
    }
   ],
   "source": [
    "error_on_f = []\n",
    "\n",
    "for i in range(len(y_data)):\n",
    "    error = error_f(v_out[i], v_in, A, dv_out[i])\n",
    "    error_on_f.append(error)\n",
    "    \n",
    "print(len(y_data))"
   ]
  },
  {
   "cell_type": "code",
   "execution_count": 11,
   "metadata": {},
   "outputs": [
    {
     "name": "stdout",
     "output_type": "stream",
     "text": [
      "[55.31687349031032, 18.43895783010344, 18.43895783010344, 12.292638553402295, 6.146319276701147, 67.60951204371261, 6.146319276701147, 24.58527710680459, 6.146319276701147]\n"
     ]
    }
   ],
   "source": [
    "print(error_on_f)"
   ]
  },
  {
   "cell_type": "code",
   "execution_count": 12,
   "metadata": {},
   "outputs": [
    {
     "name": "stdout",
     "output_type": "stream",
     "text": [
      "y_data:  [10368.840619794835, 10547.083878819169, 10325.816384857926, 10276.645830644318, 10221.328957154008, 10215.182637877306, 10061.524655959778, 9950.890908979158, 9864.842439105341]\n",
      "\n",
      "x_data:  [1.001, 1.996, 2.997, 3.998, 5.002, 7.006, 10.0, 13.03, 16.0]\n",
      "\n",
      "error on y: [55.31687349031032, 18.43895783010344, 18.43895783010344, 12.292638553402295, 6.146319276701147, 67.60951204371261, 6.146319276701147, 24.58527710680459, 6.146319276701147]\n"
     ]
    }
   ],
   "source": [
    "print(\"y_data: \", y_data)\n",
    "print()\n",
    "print(\"x_data: \", x_data)\n",
    "print()\n",
    "print(\"error on y:\", error_on_f)"
   ]
  },
  {
   "cell_type": "code",
   "execution_count": null,
   "metadata": {},
   "outputs": [],
   "source": []
  }
 ],
 "metadata": {
  "kernelspec": {
   "display_name": "Python 3",
   "language": "python",
   "name": "python3"
  },
  "language_info": {
   "codemirror_mode": {
    "name": "ipython",
    "version": 3
   },
   "file_extension": ".py",
   "mimetype": "text/x-python",
   "name": "python",
   "nbconvert_exporter": "python",
   "pygments_lexer": "ipython3",
   "version": "3.6.3"
  }
 },
 "nbformat": 4,
 "nbformat_minor": 2
}
