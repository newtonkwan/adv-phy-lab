{
 "cells": [
  {
   "cell_type": "code",
   "execution_count": 4,
   "metadata": {},
   "outputs": [],
   "source": [
    "import numpy as np\n",
    "import matplotlib.pyplot as plt\n",
    "%matplotlib inline"
   ]
  },
  {
   "cell_type": "markdown",
   "metadata": {},
   "source": [
    "$V_{n}$ = noise (V)\n",
    "<br>\n",
    "$V_{j}$ = Johnson noise (V)\n",
    "<br>\n",
    "$T$ = temperature (K)\n",
    "<br>\n",
    "$R$ = resistance ($\\Omega$) \n",
    "<br> \n",
    "$$ \\frac{\\langle V_{j}^{2} \\rangle - \\langle V_{n}^{2} \\rangle}{4T\\int{g^{2}(f)df}} = kR$$ \n",
    "\n",
    "We measure $V_{j}$ = $V_rms$ (using the picoscope), $T$ (using a thermometer), $V_{n}$ (amplifier on without any voltage), $R$ (using multimeter).\n",
    "\n",
    "The slope of the line will be fundamental constant $k$"
   ]
  },
  {
   "cell_type": "markdown",
   "metadata": {},
   "source": [
    "##### Equipment "
   ]
  },
  {
   "cell_type": "markdown",
   "metadata": {},
   "source": [
    "1) Picoscope program \n",
    "<br>\n",
    "2) Amplifier \n",
    "<br>\n",
    "3) Custom A-B alligator clip \n",
    "<br> \n",
    "4) Resistors varying from 100-600k$\\Omega$ \n",
    "<br>\n",
    "5) Shielding "
   ]
  },
  {
   "cell_type": "markdown",
   "metadata": {},
   "source": [
    "### Constant gain and no added noise"
   ]
  },
  {
   "cell_type": "markdown",
   "metadata": {},
   "source": [
    "|  Resistance ($M\\Omega$) |     Voltage (V)         |Temperature (K$\\circ$)| \n",
    "|-------------------------|-------------------------|----------------------|\n",
    "|     0.0820 $\\pm$ 0.0001 |   0.06505 $\\pm$ 0.00056 |  295.2 $\\pm$ 0.1     | \n",
    "|     0.1210 $\\pm$ 0.0001 |   0.0816 $\\pm$ 0.0007   |  294.0 $\\pm$ 0.1     |\n",
    "|     0.181 $\\pm$ 0.0001  |   0.1015 $\\pm$ 0.0007   |  296.3 $\\pm$ 0.1     |\n",
    "|     0.22                |   0.114 $\\pm$ 0.0004    |  295.5 $\\pm$ 0.1     |\n",
    "|     0.33                |   0.1456 $\\pm$ 0.0008   |  296.3 $\\pm$ 0.1     |\n",
    "|     0.39                |   0.1647 $\\pm$ 0.0008   |  297.1 $\\pm$ 0.1     | \n",
    "|     0.47                |   0.1860 $\\pm$ 0.0015   |  294.8 $\\pm$ 0.1     |\n",
    "|     0.57                |   0.2083 $\\pm$ 0.0009   |  296.5 $\\pm$ 0.1     |"
   ]
  },
  {
   "cell_type": "code",
   "execution_count": 52,
   "metadata": {},
   "outputs": [],
   "source": [
    "data = [0.06505, 0.0816, 0.1015, 0.114, 0.1456, 0.1647, 0.1860, 0.2083]\n",
    "T = [295.2, 294.0, 296.3, 295.5, 296.3, 297.1, 294.8, 296.5]\n",
    "ohms = [.0820, 0.1210, .181, .22, .33, .39, .47, .57]\n",
    "GB = 3.03e12"
   ]
  },
  {
   "cell_type": "code",
   "execution_count": 53,
   "metadata": {},
   "outputs": [],
   "source": [
    "y_axis = []\n",
    "x_axis = []\n",
    "\n",
    "for i in range(len(data)):\n",
    "    y_point = (data[i]**2 - 0.005**2) / (4*T[i]*GB)\n",
    "    y_axis.append(y_point)\n",
    "\n",
    "for i in range(len(ohms)):\n",
    "    x_point = ohms[i]*1000000\n",
    "    x_axis.append(x_point)\n",
    "    "
   ]
  },
  {
   "cell_type": "code",
   "execution_count": 54,
   "metadata": {},
   "outputs": [
    {
     "name": "stdout",
     "output_type": "stream",
     "text": [
      "[1.1757153230566959e-18, 1.861644327698076e-18, 2.8618222098956435e-18, 3.621707348399814e-18, 5.896251791902106e-18, 7.526299331380463e-18, 9.675687718025535e-18, 1.2067044562803669e-17]\n",
      "[82000.0, 121000.0, 181000.0, 220000.0, 330000.0, 390000.0, 470000.0, 570000.0]\n"
     ]
    }
   ],
   "source": [
    "print(y_axis)\n",
    "print(x_axis)"
   ]
  },
  {
   "cell_type": "code",
   "execution_count": 55,
   "metadata": {},
   "outputs": [
    {
     "data": {
      "text/plain": [
       "<matplotlib.text.Text at 0x108c27d30>"
      ]
     },
     "execution_count": 55,
     "metadata": {},
     "output_type": "execute_result"
    },
    {
     "data": {
      "image/png": "[encoded data removed]",
      "text/plain": [
       "<matplotlib.figure.Figure at 0x108a2bd30>"
      ]
     },
     "metadata": {},
     "output_type": "display_data"
    }
   ],
   "source": [
    "plt.plot(x_axis, y_axis, '-o')\n",
    "plt.ylabel(\"V^2 / 4TGB\")\n",
    "plt.xlabel(\"Ohms\")"
   ]
  },
  {
   "cell_type": "code",
   "execution_count": 56,
   "metadata": {},
   "outputs": [
    {
     "name": "stdout",
     "output_type": "stream",
     "text": [
      "(array([ 2.24823856e-23, -1.05777335e-18]), array([6.59249594e-37]), 2, array([1.3698472 , 0.35145222]), 1.7763568394002505e-15)\n"
     ]
    }
   ],
   "source": [
    "coeffs = np.polyfit(x_axis, y_axis, 1, full = True)\n",
    "coeffs_2 = np.polyfit(ohms, y_axis, 1)\n",
    "print(coeffs)"
   ]
  },
  {
   "cell_type": "markdown",
   "metadata": {},
   "source": [
    "### Adding in Variable gain"
   ]
  },
  {
   "cell_type": "markdown",
   "metadata": {},
   "source": []
  },
  {
   "cell_type": "markdown",
   "metadata": {},
   "source": [
    "| Resistance ($M\\Omega$) | G2B (no units)            | \n",
    "|------------------------|---------------------------|\n",
    "|           82           | $2.482 \\times 10^{12} $   |  \n",
    "|           121          | $2.555 \\times 10^{12} $   |  \n",
    "|           180          | $2.520 \\times 10^{12} $   |  \n",
    "|           220          | $2.542 \\times 10^{12} $   |             \n",
    "|           330          | $2.497 \\times 10^{12} $   |      \n",
    "|           390          | $2.666 \\times 10^{12} $   |      \n",
    "|           470          | $2.707 \\times 10^{12} $   |             \n",
    "|           570          | $2.621 \\times 10^{12} $   |                          "
   ]
  },
  {
   "cell_type": "code",
   "execution_count": 57,
   "metadata": {},
   "outputs": [],
   "source": [
    "# Measured data \n",
    "\n",
    "V_j = [0.06505, 0.0816, 0.1015, 0.114, 0.1456, 0.1647, 0.1860, 0.2083]\n",
    "T = [295.2, 294.0, 296.3, 295.5, 296.3, 297.1, 294.8, 296.5]\n",
    "R = [.0820, 0.1210, .181, .22, .33, .39, .47, .57]\n",
    "V_n = .07887 # measured during shot noise \n",
    "G2B = [2.482e12, 2.555e12, 2.520e12, 2.542e12, 2.497e12, 2.666e12, 2.707e12, 2.621e12]"
   ]
  },
  {
   "cell_type": "code",
   "execution_count": 58,
   "metadata": {},
   "outputs": [],
   "source": [
    "y_axis = []   # Volts / Kelvin\n",
    "x_axis = []   # Joules * Ohms / Kelvin \n",
    "\n",
    "for i in range(len(V_j)):\n",
    "    y_point = (V_j[i]**2 - V_n**2) / (4*T[i]*G2B[i])\n",
    "    y_axis.append(y_point)\n",
    "\n",
    "for i in range(len(ohms)):\n",
    "    x_point = ohms[i]*1000000\n",
    "    x_axis.append(x_point)"
   ]
  },
  {
   "cell_type": "code",
   "execution_count": 59,
   "metadata": {},
   "outputs": [
    {
     "name": "stdout",
     "output_type": "stream",
     "text": [
      "[-6.786581544300534e-19, 1.4580025160749296e-19, 1.3666480173462123e-18, 2.255016933786499e-18, 5.0613835150949284e-18, 6.598422504060887e-18, 8.889312014080786e-18, 1.1957002206204525e-17]\n",
      "[82000.0, 121000.0, 181000.0, 220000.0, 330000.0, 390000.0, 470000.0, 570000.0]\n"
     ]
    }
   ],
   "source": [
    "print(y_axis)\n",
    "print(x_axis)"
   ]
  },
  {
   "cell_type": "code",
   "execution_count": 122,
   "metadata": {},
   "outputs": [
    {
     "data": {
      "text/plain": [
       "<matplotlib.text.Text at 0x10a08ee48>"
      ]
     },
     "execution_count": 122,
     "metadata": {},
     "output_type": "execute_result"
    },
    {
     "data": {
      "image/png": "[encoded data removed]",
      "text/plain": [
       "<matplotlib.figure.Figure at 0x10a3dfdd8>"
      ]
     },
     "metadata": {},
     "output_type": "display_data"
    }
   ],
   "source": [
    "plt.plot(x_axis, y_axis, '.')\n",
    "plt.ylabel(\"V_j^2 - V_n^2/ 4TG2B\")\n",
    "plt.xlabel(\"Ohm\")\n",
    "plt.title(\"Boltzmann constant k measurement\")"
   ]
  },
  {
   "cell_type": "code",
   "execution_count": 124,
   "metadata": {},
   "outputs": [
    {
     "data": {
      "text/plain": [
       "<matplotlib.text.Text at 0x10a9fc908>"
      ]
     },
     "execution_count": 124,
     "metadata": {},
     "output_type": "execute_result"
    },
    {
     "data": {
      "image/png": "[encoded data removed]",
      "text/plain": [
       "<matplotlib.figure.Figure at 0x10a217198>"
      ]
     },
     "metadata": {},
     "output_type": "display_data"
    }
   ],
   "source": [
    "x_err = [0, 0, 0, 0, 0, 0, 0, 0]\n",
    "y_err = [0.2e-17, 0.2e-17, 0.2e-17, 0.2e-17, 0.2e-17, 0.2e-17, 0.2e-17, 0.2e-17]\n",
    "plt.errorbar(x_axis, y_axis, xerr=x_err, yerr=y_err, fmt = '.')\n",
    "plt.ylabel(\"V_j^2 - V_n^2/ 4TG2B\")\n",
    "plt.xlabel(\"Ohm\")\n",
    "plt.title(\"Boltzmann constant k measurement\")"
   ]
  },
  {
   "cell_type": "code",
   "execution_count": 90,
   "metadata": {},
   "outputs": [
    {
     "name": "stdout",
     "output_type": "stream",
     "text": [
      "[ 2.57362126e-23 -3.15568490e-18]\n",
      "accepted value: 1.3806488e-23\n",
      "k_boltzmann is 2.573621256734097e-23\n"
     ]
    }
   ],
   "source": [
    "#coeffs = np.polyfit(x_axis, y_axis, 1, full = True)\n",
    "coeffs = np.polyfit(x_axis, y_axis, 1)\n",
    "#coeffs_2 = np.polyfit(R, y_axis, 1)\n",
    "print(coeffs)\n",
    "k = 1.3806488e-23\n",
    "print(\"accepted value:\", k)\n",
    "print(\"k_boltzmann is\", coeffs[0])"
   ]
  },
  {
   "cell_type": "code",
   "execution_count": 127,
   "metadata": {},
   "outputs": [
    {
     "data": {
      "text/plain": [
       "(-4e-18, 1.4e-17)"
      ]
     },
     "execution_count": 127,
     "metadata": {},
     "output_type": "execute_result"
    },
    {
     "data": {
      "image/png": "[encoded data removed]",
      "text/plain": [
       "<matplotlib.figure.Figure at 0x10ac5a320>"
      ]
     },
     "metadata": {},
     "output_type": "display_data"
    }
   ],
   "source": [
    "# create line of best fit \n",
    "p = np.poly1d(coeffs)\n",
    "xp = np.linspace(0, x_axis[-1]+20000, 1000)\n",
    "\n",
    "# plot data with error\n",
    "plt.errorbar(x_axis, y_axis, xerr=x_err, yerr=y_err, fmt = '.')\n",
    "\n",
    "# plot line of best fit \n",
    "plt.plot(xp, p(xp), '-')\n",
    "\n",
    "# add labels and limits \n",
    "plt.ylabel(\"V_j^2 - V_n^2/ 4TG2B\")\n",
    "plt.xlabel(\"Ohms\")\n",
    "plt.title(\"Boltzmann constant k measurement\")\n",
    "plt.ylim(-0.4e-17, 1.4e-17)"
   ]
  },
  {
   "cell_type": "markdown",
   "metadata": {},
   "source": [
    "We have error in $V_j$, $V_{n}$, $R$, and $T$"
   ]
  },
  {
   "cell_type": "code",
   "execution_count": 62,
   "metadata": {},
   "outputs": [],
   "source": [
    "# Adding error with multiple variables \n",
    "\n",
    "def error_k(Vj, Vn, R, T, dVj, dVn, dR, dT, g2):\n",
    "    '''\n",
    "    returns the error of the boltzmann constant k \n",
    "    '''\n",
    "    dkdT = -(Vj**2 - Vn**2) / (4*(T**2)*R*g2)\n",
    "    dkdR = -(Vj**2 - Vn**2) / (4*T*(R**2)*g2)\n",
    "    dkdVj = (2*Vj) / (4*T*R*g2)\n",
    "    dkdVn = -(2*Vn) / (4*T*R*g2)\n",
    "    \n",
    "    term1 = dkdT**2 * dT**2\n",
    "    term2 = dkdR**2 * dR**2\n",
    "    term3 = dkdVj**2 * dVj**2\n",
    "    term4 = dkdVn**2 * dVn**2\n",
    "    \n",
    "    sum_of_terms = term1 + term2 + term3 + term4\n",
    "    square_of_sums = np.sqrt(sum_of_terms)\n",
    "    error_k = square_of_sums\n",
    "    return error_k \n"
   ]
  },
  {
   "cell_type": "code",
   "execution_count": 69,
   "metadata": {},
   "outputs": [],
   "source": [
    "# Measured data \n",
    "\n",
    "V_j = [0.06505, 0.0816, 0.1015, 0.114, 0.1456, 0.1647, 0.1860, 0.2083]\n",
    "T = [295.2, 294.0, 296.3, 295.5, 296.3, 297.1, 294.8, 296.5]\n",
    "R_raw = [.0820, 0.1210, .181, .22, .33, .39, .47, .57]\n",
    "R = [i*1000000 for i in R_raw]\n",
    "V_n = .07887 # measured during shot noise \n",
    "G2B = [2.482e12, 2.555e12, 2.520e12, 2.542e12, 2.497e12, 2.666e12, 2.707e12, 2.621e12]\n",
    "\n",
    "dV_j = [0.00056, 0.0007, 0.0007, 0.0004, 0.0008, 0.0008, 0.0015, 0.0009]\n",
    "dR_raw = [0.0001, 0.0001, 0.0001, 0, 0, 0, 0, 0]\n",
    "dR = [i * 1000000 for i in dR_raw]\n",
    "dT = [0.1, 0.1, 0.1, 0.1, 0.1, 0.1, 0.1, 0.1]\n",
    "dV_n = 0.010 # still need this data "
   ]
  },
  {
   "cell_type": "markdown",
   "metadata": {},
   "source": [
    "|  $R$ ($M\\Omega$)      |     $V_{rms}$ (V)         |     $T$ (K$\\circ$)     |$g^2$ (no units)        | \n",
    "|-----------------------|---------------------------|------------------------|------------------------|\n",
    "| $0.0820$$\\pm$$0.0001$ |   $0.06505$$\\pm$$0.00056$ |  $295.2$$\\pm$$0.1$     |$2.482$$\\times$$10^{12}$|\n",
    "| $0.1210$$\\pm$$0.0001$ |   $0.0816$$\\pm$$0.0007$   |  $294.0$$\\pm$$0.1$     |$2.555$$\\times$$10^{12}$|\n",
    "| $0.181$$\\pm$$0.0001$  |   $0.1015$$\\pm$$0.0007$   |  $296.3$$\\pm$$0.1$     |$2.520$$\\times$$10^{12}$|\n",
    "| $0.22$                |   $0.114$$\\pm$$0.0004$    |  $295.5$$\\pm$$0.1$     |$2.542$$\\times$$10^{12}$|\n",
    "| $0.33$                |   $0.1456$$\\pm$$0.0008$   |  $296.3$$\\pm$$0.1$     |$2.497$$\\times$$10^{12}$|\n",
    "| $0.39$                |   $0.1647$$\\pm$$0.0008$   |  $297.1$$\\pm$$0.1$     |$2.666$$\\times$$10^{12}$|\n",
    "| $0.47$                |   $0.1860$$\\pm$$0.0015$   |  $294.8$$\\pm$$0.1$     |$2.707$$\\times$$10^{12}$|\n",
    "| $0.57$                |   $0.2083$$\\pm$$0.0009$   |  $296.5$$\\pm$$0.1$     |$2.621$$\\times$$10^{12}$|\n",
    "\n",
    "$$\\text{Table 3: Data of temperature and RMS voltages with different resistances}$$"
   ]
  },
  {
   "cell_type": "code",
   "execution_count": 70,
   "metadata": {},
   "outputs": [
    {
     "name": "stdout",
     "output_type": "stream",
     "text": [
      "[7.143853134624199e-24, 4.3693145882563626e-24, 3.882907669903738e-24, 2.3902911023104746e-24, 1.632687377758654e-24, 1.29429050418962e-24, 1.1152465776363185e-24, 9.150604654564904e-25]\n"
     ]
    }
   ],
   "source": [
    "errors_in_k = []\n",
    "\n",
    "for i in range(len(V_j)):\n",
    "    k_error = error_k(V_j[i], V_n, R[i], T[i], dV_j[i], dV_n, dT[i], dR[i], G2B[i])\n",
    "    errors_in_k.append(k_error)\n",
    "    \n",
    "print(errors_in_k)"
   ]
  },
  {
   "cell_type": "markdown",
   "metadata": {},
   "source": [
    "The list above is a list of the errors in $k$ for each measurement. In order to calculate the error on $k$ across all measurements, we use the following formula: \n",
    "\n",
    "$$ \\sigma_k = \\sqrt{\\frac{1}{N} \\sum_{i=1}^{N} \\delta k_{i}^2}$$ "
   ]
  },
  {
   "cell_type": "code",
   "execution_count": 85,
   "metadata": {},
   "outputs": [
    {
     "name": "stdout",
     "output_type": "stream",
     "text": [
      "[5.10346376e-47 1.90909100e-47 1.50769720e-47 5.71349155e-48\n",
      " 2.66566807e-48 1.67518791e-48 1.24377493e-48 8.37335655e-49]\n",
      "9.73379776741106e-47\n",
      "1.2167247209263824e-47\n",
      "dk =  3.488158139944894e-24\n"
     ]
    }
   ],
   "source": [
    "test0 = np.square(errors_in_k)\n",
    "test1 = sum(test0)\n",
    "test2 = test1 / len(errors_in_k)\n",
    "test3 = np.sqrt(test2)\n",
    "print(test0)\n",
    "print(test1)\n",
    "print(test2)\n",
    "print(\"dk = \", test3)"
   ]
  },
  {
   "cell_type": "code",
   "execution_count": null,
   "metadata": {},
   "outputs": [],
   "source": []
  },
  {
   "cell_type": "code",
   "execution_count": 128,
   "metadata": {},
   "outputs": [],
   "source": [
    "# Adding error with multiple variables with respect to kR \n",
    "\n",
    "def error_f(Vj, Vn, T, dVj, dVn, dT, g2):\n",
    "    '''\n",
    "    returns the error of the boltzmann constant k \n",
    "    '''\n",
    "    dkdT = -(Vj**2 - Vn**2) / (4*(T**2)*g2)\n",
    "    dkdVj = (2*Vj) / (4*T*g2)\n",
    "    dkdVn = -(2*Vn) / (4*T*g2)\n",
    "    \n",
    "    term1 = dkdT**2 * dT**2\n",
    "    term2 = dkdVj**2 * dVj**2\n",
    "    term3 = dkdVn**2 * dVn**2\n",
    "    \n",
    "    sum_of_terms = term1 + term2 + term3\n",
    "    square_of_sums = np.sqrt(sum_of_terms)\n",
    "    error_k = square_of_sums\n",
    "    return error_k "
   ]
  },
  {
   "cell_type": "code",
   "execution_count": 130,
   "metadata": {},
   "outputs": [
    {
     "name": "stdout",
     "output_type": "stream",
     "text": [
      "[5.387986462833091e-19, 5.263560169581093e-19, 5.302795997407048e-19, 5.258645962154921e-19, 5.387895425239117e-19, 5.047781825524224e-19, 5.241745646783678e-19, 5.216000548742944e-19]\n"
     ]
    }
   ],
   "source": [
    "errors_in_kR = []\n",
    "\n",
    "for i in range(len(V_j)):\n",
    "    kR_error = error_f(V_j[i], V_n, T[i], dV_j[i], dV_n, dT[i], G2B[i])\n",
    "    errors_in_kR.append(kR_error)\n",
    "    \n",
    "print(errors_in_kR)"
   ]
  },
  {
   "cell_type": "code",
   "execution_count": 145,
   "metadata": {},
   "outputs": [],
   "source": [
    "import matplotlib\n",
    "%precision %g\n",
    "%config InlineBackend.figure_format = 'retina'\n",
    "matplotlib.rcParams['savefig.dpi'] = 120\n",
    "matplotlib.rcParams['figure.dpi'] = 120\n",
    "%matplotlib inline"
   ]
  },
  {
   "cell_type": "code",
   "execution_count": 151,
   "metadata": {},
   "outputs": [
    {
     "data": {
      "text/plain": [
       "(0, 600000)"
      ]
     },
     "execution_count": 151,
     "metadata": {},
     "output_type": "execute_result"
    },
    {
     "data": {
      "image/png": "[encoded data removed]",
      "text/plain": [
       "<matplotlib.figure.Figure at 0x10a99de10>"
      ]
     },
     "metadata": {
      "image/png": {
       "height": 280,
       "width": 416
      }
     },
     "output_type": "display_data"
    }
   ],
   "source": [
    "# plot data with error\n",
    "plt.errorbar(x_axis, y_axis, xerr=x_err, yerr=errors_in_kR, fmt = '.', color = 'black')\n",
    "\n",
    "# plot line of best fit \n",
    "plt.plot(xp, p(xp), 'r-')\n",
    "\n",
    "# add labels and limits \n",
    "plt.ylabel('$V_j^2 - V_n^2 / 4TG2B$')\n",
    "plt.xlabel(\"Ohms\")\n",
    "plt.title(\"Boltzmann constant k measurement\")\n",
    "plt.ylim(-0.4e-17, 1.4e-17)\n",
    "plt.xlim(0, 600000)"
   ]
  },
  {
   "cell_type": "markdown",
   "metadata": {},
   "source": [
    "## After changing gain factor in ROOT Code"
   ]
  },
  {
   "cell_type": "markdown",
   "metadata": {},
   "source": [
    "|     $R$ (M$\\Omega$)       |        $V_{rms}$ $(V)$           |     $$T (K\\circ)$$     |$$g^2(f)$$| \n",
    "|-----------------------|---------------------------|------------------------|----------------|\n",
    "| $0.0820$$\\pm$$0.0001$ |   $0.06505$$\\pm$$0.00056$ |  $295.2$$\\pm$$0.1$ |$3.09655$$\\times$$10^{12}$$\\pm$$0.38486$$\\times$$10^{12}$|\n",
    "| $0.1210$$\\pm$$0.0001$ |   $0.0816$$\\pm$$0.0007$   |  $294.0$$\\pm$$0.1$ |$3.2352$$\\times$$10^{12}$$\\pm$$0.38486$$\\times$$10^{12}$|\n",
    "| $0.181$$\\pm$$0.0001$  |   $0.1015$$\\pm$$0.0007$   |  $296.3$$\\pm$$0.1$ |$3.32042$$\\times$$10^{12}$$\\pm$$0.38486$$\\times$$10^{12}$|\n",
    "| $0.22$                |   $0.114$$\\pm$$0.0004$    |  $295.5$$\\pm$$0.1$ |$3.31051$$\\times$$10^{12}$$\\pm$$0.38486$$\\times$$10^{12}$|\n",
    "| $0.33$                |   $0.1456$$\\pm$$0.0008$   |  $296.3$$\\pm$$0.1$ |$3.29273$$\\times$$10^{12}$$\\pm$$0.38486$$\\times$$10^{12}$|\n",
    "| $0.39$                |   $0.1647$$\\pm$$0.0008$   |  $297.1$$\\pm$$0.1$ |$3.52032$$\\times$$10^{12}$$\\pm$$0.38486$$\\times$$10^{12}$|\n",
    "| $0.47$                |   $0.1860$$\\pm$$0.0015$   |  $294.8$$\\pm$$0.1$ |$3.49177$$\\times$$10^{12}$$\\pm$$0.38486$$\\times$$10^{12}$|\n",
    "| $0.57$                |   $0.2083$$\\pm$$0.0009$   |  $296.5$$\\pm$$0.1$ |$3.44091$$\\times$$10^{12}$$\\pm$$0.38486$$\\times$$10^{12}$|\n",
    "\n",
    "$V_{noise} = 5.592mV \\pm 46.47 \\mu V$\n",
    "$$\\text{Table 3: Data of different resistances used for Boltzmann constant measurement}$$"
   ]
  },
  {
   "cell_type": "code",
   "execution_count": 1,
   "metadata": {},
   "outputs": [],
   "source": [
    "# Measured data \n",
    "\n",
    "V_j = [0.06505, 0.0816, 0.1015, 0.114, 0.1456, 0.1647, 0.1860, 0.2083]\n",
    "T = [295.2, 294.0, 296.3, 295.5, 296.3, 297.1, 294.8, 296.5]\n",
    "R = [.0820, 0.1210, .181, .22, .33, .39, .47, .57]\n",
    "#V_n = .07887 # measured during shot noise \n",
    "V_n = .0187 # measured during shot noise \n",
    "G2B = [3.09655e12, 3.2352e12, 3.32042e12, 3.31051e12, 3.29273e12, 3.52032e12, 3.49177e12, 3.44091e12]"
   ]
  },
  {
   "cell_type": "code",
   "execution_count": 2,
   "metadata": {},
   "outputs": [],
   "source": [
    "y_axis = []   # Volts / Kelvin\n",
    "x_axis = []   # Joules * Ohms / Kelvin \n",
    "\n",
    "for i in range(len(V_j)):\n",
    "    y_point = (V_j[i]**2 - V_n**2) / (4*T[i]*G2B[i])\n",
    "    y_axis.append(y_point)\n",
    "\n",
    "for i in range(len(R)):\n",
    "    x_point = R[i]*1000000\n",
    "    x_axis.append(x_point)"
   ]
  },
  {
   "cell_type": "code",
   "execution_count": 8,
   "metadata": {},
   "outputs": [
    {
     "name": "stdout",
     "output_type": "stream",
     "text": [
      "[1.0616469410685613e-18, 1.6582237185180702e-18, 2.5290076354514908e-18, 3.2318518398009243e-18, 5.34258477506064e-18, 6.400404192012042e-18, 8.317267773154001e-18, 1.0546447321773283e-17]\n",
      "[82000.0, 121000.0, 181000.0, 220000.0, 330000.0, 390000.0, 470000.0, 570000.0]\n"
     ]
    }
   ],
   "source": [
    "print(y_axis)\n",
    "print(x_axis)"
   ]
  },
  {
   "cell_type": "code",
   "execution_count": 5,
   "metadata": {},
   "outputs": [
    {
     "data": {
      "text/plain": [
       "<matplotlib.text.Text at 0x10dff3518>"
      ]
     },
     "execution_count": 5,
     "metadata": {},
     "output_type": "execute_result"
    },
    {
     "data": {
      "image/png": "[encoded data removed]",
      "text/plain": [
       "<matplotlib.figure.Figure at 0x10df9e860>"
      ]
     },
     "metadata": {},
     "output_type": "display_data"
    }
   ],
   "source": [
    "plt.plot(x_axis, y_axis, '.')\n",
    "plt.ylabel(\"V_j^2 - V_n^2/ 4TG2B\")\n",
    "plt.xlabel(\"Ohm\")\n",
    "plt.title(\"Boltzmann constant k measurement\")"
   ]
  },
  {
   "cell_type": "code",
   "execution_count": 6,
   "metadata": {},
   "outputs": [
    {
     "name": "stdout",
     "output_type": "stream",
     "text": [
      "[ 1.93862450e-23 -8.42706119e-19]\n",
      "accepted value: 1.3806488e-23\n",
      "k_boltzmann is 1.9386244985686177e-23\n"
     ]
    }
   ],
   "source": [
    "coeffs = np.polyfit(x_axis, y_axis, 1)\n",
    "print(coeffs)\n",
    "k = 1.3806488e-23\n",
    "print(\"accepted value:\", k)\n",
    "print(\"k_boltzmann is\", coeffs[0])"
   ]
  },
  {
   "cell_type": "code",
   "execution_count": 7,
   "metadata": {},
   "outputs": [
    {
     "data": {
      "text/plain": [
       "(-4e-18, 1.4e-17)"
      ]
     },
     "execution_count": 7,
     "metadata": {},
     "output_type": "execute_result"
    },
    {
     "data": {
      "image/png": "[encoded data removed]",
      "text/plain": [
       "<matplotlib.figure.Figure at 0x10dfcb400>"
      ]
     },
     "metadata": {},
     "output_type": "display_data"
    }
   ],
   "source": [
    "# create line of best fit \n",
    "p = np.poly1d(coeffs)\n",
    "xp = np.linspace(0, x_axis[-1]+20000, 1000)\n",
    "\n",
    "# plot data with error\n",
    "plt.plot(x_axis, y_axis, \".\", color = 'black')\n",
    "\n",
    "# plot line of best fit \n",
    "plt.plot(xp, p(xp), 'r-')\n",
    "\n",
    "# add labels and limits \n",
    "plt.ylabel(\"V_j^2 - V_n^2/ 4TG2B\")\n",
    "plt.xlabel(\"Ohms\")\n",
    "plt.title(\"Boltzmann constant k measurement\")\n",
    "plt.ylim(-0.4e-17, 1.4e-17)"
   ]
  },
  {
   "cell_type": "code",
   "execution_count": 9,
   "metadata": {},
   "outputs": [],
   "source": [
    "# Adding error with multiple variables with respect to kR \n",
    "\n",
    "def error_f(Vj, Vn, T, G2B, dVj, dVn, dT, dG2B):\n",
    "    '''\n",
    "    returns the error of the boltzmann constant k \n",
    "    '''\n",
    "    dkdT = -(Vj**2 - Vn**2) / (4*(T**2)*G2B)\n",
    "    dkdVj = (2*Vj) / (4*T*G2B)\n",
    "    dkdVn = -(2*Vn) / (4*T*G2B)\n",
    "    dkdG2B = -(Vj**2 - Vn**2) / (4*T*G2B**2)\n",
    "    \n",
    "    term1 = dkdT**2 * dT**2\n",
    "    term2 = dkdVj**2 * dVj**2\n",
    "    term3 = dkdVn**2 * dVn**2\n",
    "    term4 = dkdG2B**2 * dG2B**2\n",
    "    \n",
    "    sum_of_terms = term1 + term2 + term3 +term4\n",
    "    square_of_sums = np.sqrt(sum_of_terms)\n",
    "    error_f = square_of_sums\n",
    "    return error_f "
   ]
  },
  {
   "cell_type": "code",
   "execution_count": 10,
   "metadata": {},
   "outputs": [],
   "source": [
    "# Data + errors \n",
    "\n",
    "V_j = [0.06505, 0.0816, 0.1015, 0.114, 0.1456, 0.1647, 0.1860, 0.2083]\n",
    "T = [295.2, 294.0, 296.3, 295.5, 296.3, 297.1, 294.8, 296.5]\n",
    "R_raw = [.0820, 0.1210, .181, .22, .33, .39, .47, .57]\n",
    "R = [i * 1000000 for i in R_raw]\n",
    "V_n = .0187 # this is a placeholder. still need data. \n",
    "G2B = [3.09655e12, 3.2352e12, 3.32042e12, 3.31051e12, 3.29273e12, 3.52032e12, 3.49177e12, 3.44091e12]\n",
    "\n",
    "dV_j = [0.00056, 0.0007, 0.0007, 0.0004, 0.0008, 0.0008, 0.0015, 0.0009]\n",
    "dR_raw = [0.0001, 0.0001, 0.0001, 0, 0, 0, 0, 0]\n",
    "dR = [i * 1000000 for i in dR_raw]\n",
    "dT = [0.1, 0.1, 0.1, 0.1, 0.1, 0.1, 0.1, 0.1]\n",
    "dG2B = 0.38486e12\n",
    "dV_n = 0.007 # this is a placeholder. still need data. "
   ]
  },
  {
   "cell_type": "code",
   "execution_count": 14,
   "metadata": {},
   "outputs": [
    {
     "name": "stdout",
     "output_type": "stream",
     "text": [
      "[1.5144042644422344e-19, 2.1106750378665205e-19, 3.027460634538954e-19, 3.8233875418616645e-19, 6.308767947399771e-19, 7.053402851395905e-19, 9.288681592744258e-19, 1.1849182507338012e-18]\n"
     ]
    }
   ],
   "source": [
    "errors_in_kR = []\n",
    "x_err = [0, 0, 0, 0, 0, 0, 0, 0]\n",
    "\n",
    "for i in range(len(V_j)):\n",
    "    kR_error = error_f(V_j[i], V_n, T[i], G2B[i], dV_j[i], dV_n, dT[i], dG2B)\n",
    "    errors_in_kR.append(kR_error)\n",
    "    \n",
    "print(errors_in_kR)"
   ]
  },
  {
   "cell_type": "code",
   "execution_count": 15,
   "metadata": {},
   "outputs": [
    {
     "data": {
      "text/plain": [
       "(0, 600000)"
      ]
     },
     "execution_count": 15,
     "metadata": {},
     "output_type": "execute_result"
    },
    {
     "data": {
      "image/png": "[encoded data removed]",
      "text/plain": [
       "<matplotlib.figure.Figure at 0x10e5b85f8>"
      ]
     },
     "metadata": {},
     "output_type": "display_data"
    }
   ],
   "source": [
    "# plot data with error\n",
    "plt.errorbar(x_axis, y_axis, xerr=x_err, yerr=errors_in_kR, fmt = '.', color = 'black')\n",
    "\n",
    "# plot line of best fit \n",
    "plt.plot(xp, p(xp), 'r-')\n",
    "\n",
    "# add labels and limits \n",
    "plt.ylabel('$V_j^2 - V_n^2 / 4TG2B$')\n",
    "plt.xlabel(\"Ohms\")\n",
    "plt.title(\"Boltzmann constant k measurement\")\n",
    "plt.ylim(-0.4e-17, 1.4e-17)\n",
    "plt.xlim(0, 600000)"
   ]
  },
  {
   "cell_type": "code",
   "execution_count": 19,
   "metadata": {},
   "outputs": [
    {
     "name": "stdout",
     "output_type": "stream",
     "text": [
      "y-axis ----  [1.0616469410685613e-18, 1.6582237185180702e-18, 2.5290076354514908e-18, 3.2318518398009243e-18, 5.34258477506064e-18, 6.400404192012042e-18, 8.317267773154001e-18, 1.0546447321773283e-17]\n",
      "\n",
      "x-axis ----  [82000.0, 121000.0, 181000.0, 220000.0, 330000.0, 390000.0, 470000.0, 570000.0]\n",
      "\n",
      "errors in y ----  [1.5144042644422344e-19, 2.1106750378665205e-19, 3.027460634538954e-19, 3.8233875418616645e-19, 6.308767947399771e-19, 7.053402851395905e-19, 9.288681592744258e-19, 1.1849182507338012e-18]\n"
     ]
    }
   ],
   "source": [
    "print(\"y-axis ---- \", y_axis)\n",
    "print()\n",
    "print(\"x-axis ---- \", x_axis)\n",
    "print()\n",
    "print(\"errors in y ---- \", errors_in_kR)"
   ]
  },
  {
   "cell_type": "markdown",
   "metadata": {},
   "source": [
    "We run ROOT code that computes a linear fit using the error we calculated. The results are below: \n",
    "\n",
    "$$ k = 1.776 \\times 10^{-23} \\pm 1.204 \\times 10^{-24}$$\n",
    " \n",
    "We calculate the number of sigmas we are away from the accepted value using the following formula: \n",
    "\n",
    "$$ |k_{experiment} - k_{accepted} | < \\sigma \\times k_{error} $$ \n",
    "\n",
    "We solve for the smallest sigma where this equality holds. "
   ]
  },
  {
   "cell_type": "code",
   "execution_count": 2,
   "metadata": {},
   "outputs": [
    {
     "name": "stdout",
     "output_type": "stream",
     "text": [
      "We are within 3.5 sigma of the mean: True\n"
     ]
    }
   ],
   "source": [
    "exp_diff = 3.954e-24\n",
    "error = 1.204e-24\n",
    "sigma = 3.5\n",
    "print(\"We are within\", sigma, \"sigma of the mean:\", exp_diff < (sigma)*error)"
   ]
  },
  {
   "cell_type": "code",
   "execution_count": null,
   "metadata": {},
   "outputs": [],
   "source": []
  }
 ],
 "metadata": {
  "kernelspec": {
   "display_name": "Python 3",
   "language": "python",
   "name": "python3"
  },
  "language_info": {
   "codemirror_mode": {
    "name": "ipython",
    "version": 3
   },
   "file_extension": ".py",
   "mimetype": "text/x-python",
   "name": "python",
   "nbconvert_exporter": "python",
   "pygments_lexer": "ipython3",
   "version": "3.6.3"
  }
 },
 "nbformat": 4,
 "nbformat_minor": 2
}
